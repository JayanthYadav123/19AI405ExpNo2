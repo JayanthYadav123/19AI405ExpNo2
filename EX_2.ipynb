{
  "nbformat": 4,
  "nbformat_minor": 0,
  "metadata": {
    "colab": {
      "provenance": [],
      "authorship_tag": "ABX9TyMl7nY7AYEdLJ723iUjth/R",
      "include_colab_link": true
    },
    "kernelspec": {
      "name": "python3",
      "display_name": "Python 3"
    },
    "language_info": {
      "name": "python"
    }
  },
  "cells": [
    {
      "cell_type": "markdown",
      "metadata": {
        "id": "view-in-github",
        "colab_type": "text"
      },
      "source": [
        "<a href=\"https://colab.research.google.com/github/JayanthYadav123/19AI405ExpNo2/blob/main/EX_2.ipynb\" target=\"_parent\"><img src=\"https://colab.research.google.com/assets/colab-badge.svg\" alt=\"Open In Colab\"/></a>"
      ]
    },
    {
      "cell_type": "code",
      "execution_count": 1,
      "metadata": {
        "id": "WI-pqD8jgc3R"
      },
      "outputs": [],
      "source": [
        "#import defaultdict"
      ]
    },
    {
      "cell_type": "code",
      "source": [
        "from collections import defaultdict\n",
        "def dfs(graph,start,visited,path):\n",
        "    path.append(start)\n",
        "    visited[start]=True\n",
        "    for neighbour in graph[start]:\n",
        "        if visited[neighbour]==False:\n",
        "            dfs(graph,neighbour,visited,path)\n",
        "            visited[neighbour]=True\n",
        "    return path\n",
        "graph=defaultdict(list)\n",
        "n,e=map(int,input().split())\n",
        "for i in range(e):\n",
        "    u,v=map(str,input().split())\n",
        "    graph[u].append(v)\n",
        "    graph[v].append(u)\n",
        "#print(graph)\n",
        "start='A'\n",
        "visited=defaultdict(bool)\n",
        "path=[]\n",
        "traversedpath=dfs(graph,start,visited,path)\n",
        "print(traversedpath)"
      ],
      "metadata": {
        "colab": {
          "base_uri": "https://localhost:8080/"
        },
        "id": "kFzLcOWwgydH",
        "outputId": "e4ce7fe8-bf74-46e0-db3c-6d629f32c1a2"
      },
      "execution_count": 2,
      "outputs": [
        {
          "output_type": "stream",
          "name": "stdout",
          "text": [
            "8 9\n",
            "A B\n",
            "A C\n",
            "B E\n",
            "C D\n",
            "B D\n",
            "C G\n",
            "D F\n",
            "G F\n",
            "F H\n",
            "['A', 'B', 'E', 'D', 'C', 'G', 'F', 'H']\n"
          ]
        }
      ]
    },
    {
      "cell_type": "code",
      "source": [
        "#import defaultdict\n",
        "from collections import defaultdict\n",
        "def dfs(graph,start,visited,path):\n",
        "    path.append(start)\n",
        "    visited[start]=True\n",
        "    for neighbour in graph[start]:\n",
        "        if visited[neighbour]==False:\n",
        "            dfs(graph,neighbour,visited,path)\n",
        "            visited[neighbour]=True\n",
        "    return path\n",
        "graph=defaultdict(list)\n",
        "n,e=map(int,input().split())\n",
        "for i in range(e):\n",
        "    u,v=map(str,input().split())\n",
        "    graph[u].append(v)\n",
        "    graph[v].append(u)\n",
        "#print(graph)\n",
        "start='0'\n",
        "visited=defaultdict(bool)\n",
        "path=[]\n",
        "traversedpath=dfs(graph,start,visited,path)\n",
        "print(traversedpath)\n",
        ""
      ],
      "metadata": {
        "colab": {
          "base_uri": "https://localhost:8080/"
        },
        "id": "1QJlOGgahWkF",
        "outputId": "7ca1ab0c-e17b-45dd-f7e7-190152992943"
      },
      "execution_count": 3,
      "outputs": [
        {
          "output_type": "stream",
          "name": "stdout",
          "text": [
            "5 5\n",
            "0 1\n",
            "0 2\n",
            "0 3\n",
            "2 3\n",
            "2 4\n",
            "['0', '1', '2', '3', '4']\n"
          ]
        }
      ]
    }
  ]
}